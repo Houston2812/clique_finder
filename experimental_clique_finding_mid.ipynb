{
 "cells": [
  {
   "cell_type": "markdown",
   "metadata": {},
   "source": [
    "# Execution of different clique finding algorithms"
   ]
  },
  {
   "cell_type": "code",
   "execution_count": 1,
   "metadata": {},
   "outputs": [],
   "source": [
    "from libs import *\n",
    "files = {\n",
    "    \"nc_mid\" : \"graphs/research/nc_mid_clique.json\",\n",
    "    \"sparse_mid\" : \"graphs/research/sparse_mid_clique.json\",\n",
    "    \"dense_mid\" : \"graphs/research/dense_mid_clique.json\",\n",
    "}"
   ]
  },
  {
   "cell_type": "code",
   "execution_count": 2,
   "metadata": {},
   "outputs": [],
   "source": [
    "nc_mid = files[\"nc_mid\"]\n",
    "G_nc_mid = load_graph_from_json(nc_mid)\n",
    "\n",
    "sparse_mid = files[\"sparse_mid\"]\n",
    "G_sparse_mid = load_graph_from_json(sparse_mid)\n",
    "\n",
    "dense_mid = files[\"dense_mid\"]\n",
    "G_dense_mid = load_graph_from_json(dense_mid)"
   ]
  },
  {
   "cell_type": "code",
   "execution_count": 3,
   "metadata": {},
   "outputs": [
    {
     "name": "stdout",
     "output_type": "stream",
     "text": [
      "Graph Analysis:\n",
      "Number of nodes: 235\n",
      "Number of edges: 2506\n",
      "Average degree: 21.33\n",
      "Density: 0.091\n",
      "Maximum clique: {'19', '12', '3', '25', '29', '17', '0', '27', '18', '21', '15', '1', '23', '7', '2', '13', '4', '8', '5', '26', '10', '28', '9', '6', '22', '20', '11', '24', '14', '16'}\n"
     ]
    }
   ],
   "source": [
    "nc_mid_largest = set(analyze_graph(G_nc_mid))"
   ]
  },
  {
   "cell_type": "code",
   "execution_count": 4,
   "metadata": {},
   "outputs": [
    {
     "name": "stdout",
     "output_type": "stream",
     "text": [
      "Graph Analysis:\n",
      "Number of nodes: 287\n",
      "Number of edges: 7641\n",
      "Average degree: 53.25\n",
      "Density: 0.186\n",
      "Maximum clique: {'90', '97', '113', '101', '93', '107', '106', '92', '89', '115', '103', '109', '98', '116', '114', '104', '110', '111', '102', '105', '87', '95', '99', '108', '91', '96', '100', '94', '112', '88'}\n"
     ]
    }
   ],
   "source": [
    "sparse_mid_largest = set(analyze_graph(G_sparse_mid))"
   ]
  },
  {
   "cell_type": "code",
   "execution_count": 5,
   "metadata": {},
   "outputs": [
    {
     "name": "stdout",
     "output_type": "stream",
     "text": [
      "Graph Analysis:\n",
      "Number of nodes: 287\n",
      "Number of edges: 24657\n",
      "Average degree: 171.83\n",
      "Density: 0.601\n",
      "Maximum clique: {'90', '97', '113', '101', '93', '106', '107', '92', '89', '115', '103', '109', '98', '116', '114', '110', '104', '111', '102', '105', '87', '95', '99', '108', '91', '96', '100', '94', '112', '88'}\n"
     ]
    }
   ],
   "source": [
    "dense_mid_largest = set(analyze_graph(G_dense_mid))"
   ]
  },
  {
   "cell_type": "code",
   "execution_count": 6,
   "metadata": {},
   "outputs": [
    {
     "name": "stdout",
     "output_type": "stream",
     "text": [
      "Not connected mid graph analysis\n",
      "\n",
      "\n",
      "Carraghan-Pardalos experiment\n",
      "optimized_carraghan_pardalos took 0.0036339170 seconds to execute\n",
      "Maximum clique 30: {'19', '2', '12', '4', '3', '13', '8', '14', '5', '25', '26', '10', '28', '9', '29', '6', '22', '17', '0', '27', '11', '18', '20', '21', '24', '15', '1', '23', '7', '16'}\n",
      "CP intersection set 30: {'19', '12', '3', '25', '29', '17', '0', '27', '18', '21', '15', '1', '23', '7', '2', '4', '13', '8', '5', '26', '10', '28', '9', '6', '22', '11', '20', '24', '14', '16'}\n",
      "----------------------------------------------------------------------------------------------------\n",
      "Bron-Kerbosh experiment\n",
      "find_max_clique took 0.0014030000 seconds to execute\n",
      "Maximum clique 30 <class 'set'>: {'19', '2', '12', '13', '4', '3', '7', '8', '5', '26', '25', '10', '28', '9', '29', '6', '22', '17', '0', '27', '11', '20', '18', '21', '24', '15', '1', '23', '14', '16'}\n",
      "BK intersection set 30: {'19', '12', '3', '25', '29', '17', '0', '27', '18', '21', '15', '1', '23', '7', '2', '13', '4', '8', '5', '26', '10', '28', '9', '6', '22', '11', '20', '24', '14', '16'}\n",
      "----------------------------------------------------------------------------------------------------\n",
      "Tabu-Search experiment\n",
      "find_maximum_clique took 0.0136261251 seconds to execute\n",
      "Maximum clique 24: {'50', '34', '44', '41', '47', '49', '32', '53', '31', '38', '45', '33', '51', '39', '43', '48', '35', '46', '42', '37', '40', '52', '30', '36'}\n",
      "Tabu intersection set 0: set()\n",
      "----------------------------------------------------------------------------------------------------\n"
     ]
    }
   ],
   "source": [
    "print(\"Not connected mid graph analysis\\n\\n\")\n",
    "\n",
    "print(\"Carraghan-Pardalos experiment\")\n",
    "# cp_solver: CarraghanPardalosCF = CarraghanPardalosCF(G_nc_mid)\n",
    "# nc_mid_max_clique_cp: set = cp_solver.find_maximum_clique()\n",
    "# nc_mid_max_clique_cp = carraghan_pardalos_maximal_clique_pivot(G_nc_mid)\n",
    "nc_mid_max_clique_cp = optimized_carraghan_pardalos(G_nc_mid)\n",
    "\n",
    "nc_mid_intersection_set_cp = nc_mid_largest.intersection(nc_mid_max_clique_cp)\n",
    "\n",
    "print(f\"Maximum clique {len(nc_mid_max_clique_cp)}: {nc_mid_max_clique_cp}\")\n",
    "print(f\"CP intersection set {len(nc_mid_intersection_set_cp)}: {nc_mid_intersection_set_cp}\")\n",
    "print(\"-\"*100)\n",
    "\n",
    "print(\"Bron-Kerbosh experiment\")\n",
    "bk_solver = BronKerbosch(G_nc_mid)\n",
    "nc_mid_max_clique_bk: set = bk_solver.find_max_clique()\n",
    "nc_mid_intersection_set_bk = nc_mid_largest.intersection(nc_mid_max_clique_bk)\n",
    "\n",
    "print(f\"Maximum clique {len(nc_mid_max_clique_bk)} {type(nc_mid_max_clique_bk)}: {nc_mid_max_clique_bk}\")\n",
    "print(f\"BK intersection set {len(nc_mid_intersection_set_bk)}: {nc_mid_intersection_set_bk}\")\n",
    "print(\"-\"*100)\n",
    "\n",
    "\n",
    "print(\"Tabu-Search experiment\")\n",
    "tabu_solver: TabuCliqueFinder = TabuCliqueFinder(G_nc_mid, tabu_tenure=30, max_iterations=100)\n",
    "nc_mid_max_clique_tabu: set = tabu_solver.find_maximum_clique()\n",
    "nc_mid_intersection_set_tabu = nc_mid_largest.intersection(nc_mid_max_clique_tabu)\n",
    "\n",
    "print(f\"Maximum clique {len(nc_mid_max_clique_tabu)}: {nc_mid_max_clique_tabu}\")\n",
    "print(f\"Tabu intersection set {len(nc_mid_intersection_set_tabu)}: {nc_mid_intersection_set_tabu}\")\n",
    "print(\"-\"*100)"
   ]
  },
  {
   "cell_type": "code",
   "execution_count": 7,
   "metadata": {},
   "outputs": [
    {
     "name": "stdout",
     "output_type": "stream",
     "text": [
      "Sparsly connected mid graph\n",
      "Carraghan-Pardalos experiment\n",
      "optimized_carraghan_pardalos took 0.0601409170 seconds to execute\n",
      "Maximum clique 30: {'114', '110', '104', '111', '102', '105', '90', '97', '113', '101', '93', '87', '106', '107', '92', '89', '95', '99', '108', '115', '103', '91', '96', '112', '109', '100', '94', '98', '116', '88'}\n",
      "CP intersection set 30: {'90', '97', '113', '101', '93', '107', '106', '92', '89', '115', '103', '109', '98', '116', '114', '104', '110', '111', '102', '105', '87', '95', '99', '108', '91', '96', '100', '94', '112', '88'}\n",
      "----------------------------------------------------------------------------------------------------\n",
      "Bron-Kerbosh experiment\n",
      "find_max_clique took 0.1025918750 seconds to execute\n",
      "Maximum clique 30 <class 'set'>: {'114', '104', '110', '111', '102', '105', '90', '97', '113', '101', '93', '87', '107', '106', '116', '92', '89', '95', '99', '108', '115', '103', '91', '96', '109', '100', '94', '98', '112', '88'}\n",
      "BK intersection set 30: {'90', '97', '113', '101', '93', '106', '107', '92', '89', '115', '103', '109', '98', '116', '114', '104', '110', '111', '102', '105', '87', '95', '99', '108', '91', '96', '100', '94', '112', '88'}\n",
      "----------------------------------------------------------------------------------------------------\n",
      "Tabu-Search experiment\n",
      "find_maximum_clique took 0.0890747500 seconds to execute\n",
      "Maximum clique 19: {'181', '172', '175', '173', '167', '183', '176', '174', '179', '184', '180', '170', '168', '182', '169', '177', '178', '185', '171'}\n",
      "Tabu intersection set 0: set()\n",
      "----------------------------------------------------------------------------------------------------\n"
     ]
    }
   ],
   "source": [
    "\n",
    "print(\"Sparsly connected mid graph\")\n",
    "\n",
    "print(\"Carraghan-Pardalos experiment\")\n",
    "# cp_solver: CarraghanPardalosCF = CarraghanPardalosCF(G_sparse_mid)\n",
    "# sparse_mid_max_clique_cp: set = cp_solver.find_maximum_clique()\n",
    "# sparse_mid_max_clique_cp = carraghan_pardalos_maximal_clique_pivot(G_sparse_mid)\n",
    "sparse_mid_max_clique_cp = optimized_carraghan_pardalos(G_sparse_mid)\n",
    "\n",
    "sparse_mid_intersection_set_cp = sparse_mid_largest.intersection(sparse_mid_max_clique_cp)\n",
    "\n",
    "print(f\"Maximum clique {len(sparse_mid_max_clique_cp)}: {sparse_mid_max_clique_cp}\")\n",
    "print(f\"CP intersection set {len(sparse_mid_intersection_set_cp)}: {sparse_mid_intersection_set_cp}\")\n",
    "print(\"-\"*100)\n",
    "\n",
    "print(\"Bron-Kerbosh experiment\")\n",
    "bk_solver = BronKerbosch(G_sparse_mid)\n",
    "sparse_mid_max_clique_bk: set = bk_solver.find_max_clique()\n",
    "sparse_mid_intersection_set_bk = sparse_mid_largest.intersection(sparse_mid_max_clique_bk)\n",
    "\n",
    "print(f\"Maximum clique {len(sparse_mid_max_clique_bk)} {type(sparse_mid_max_clique_bk)}: {sparse_mid_max_clique_bk}\")\n",
    "print(f\"BK intersection set {len(sparse_mid_intersection_set_bk)}: {sparse_mid_intersection_set_bk}\")\n",
    "print(\"-\"*100)\n",
    "\n",
    "\n",
    "print(\"Tabu-Search experiment\")\n",
    "tabu_solver: TabuCliqueFinder = TabuCliqueFinder(G_sparse_mid, tabu_tenure=20, max_iterations=300)\n",
    "sparse_mid_max_clique_tabu: set = tabu_solver.find_maximum_clique()\n",
    "sparse_mid_intersection_set_tabu = sparse_mid_largest.intersection(sparse_mid_max_clique_tabu)\n",
    "\n",
    "print(f\"Maximum clique {len(sparse_mid_max_clique_tabu)}: {sparse_mid_max_clique_tabu}\")\n",
    "print(f\"Tabu intersection set {len(sparse_mid_intersection_set_tabu)}: {sparse_mid_intersection_set_tabu}\")\n",
    "print(\"-\"*100)"
   ]
  },
  {
   "cell_type": "code",
   "execution_count": 8,
   "metadata": {},
   "outputs": [
    {
     "name": "stdout",
     "output_type": "stream",
     "text": [
      "Densly connected mid graph\n",
      "Carraghan-Pardalos experiment\n",
      "optimized_carraghan_pardalos took 4226.9794168330 seconds to execute\n",
      "Maximum clique 30: {'114', '104', '110', '111', '105', '102', '90', '97', '113', '101', '93', '87', '107', '106', '116', '92', '89', '95', '99', '108', '115', '103', '91', '96', '109', '100', '94', '98', '112', '88'}\n",
      "CP intersection set 30: {'90', '97', '113', '101', '93', '106', '107', '92', '89', '115', '103', '109', '98', '116', '114', '104', '110', '111', '105', '102', '87', '95', '99', '108', '91', '96', '100', '94', '112', '88'}\n",
      "----------------------------------------------------------------------------------------------------\n",
      "Bron-Kerbosh experiment\n",
      "find_max_clique took 175.5170183750 seconds to execute\n",
      "Maximum clique 30 <class 'set'>: {'114', '104', '110', '111', '102', '105', '90', '97', '113', '101', '93', '87', '107', '106', '116', '92', '89', '95', '99', '108', '115', '103', '91', '96', '109', '100', '94', '98', '112', '88'}\n",
      "BK intersection set 30: {'90', '97', '113', '101', '93', '106', '107', '92', '89', '115', '103', '109', '98', '116', '114', '104', '110', '111', '102', '105', '87', '95', '99', '108', '91', '96', '100', '94', '112', '88'}\n",
      "----------------------------------------------------------------------------------------------------\n"
     ]
    }
   ],
   "source": [
    "print(\"Densly connected mid graph\")\n",
    "\n",
    "print(\"Carraghan-Pardalos experiment\")\n",
    "# cp_solver: CarraghanPardalosCF = CarraghanPardalosCF(G_dense_mid)\n",
    "# dense_mid_max_clique_cp: set = cp_solver.find_maximum_clique()\n",
    "# dense_mid_max_clique_cp = carraghan_pardalos_maximal_clique_pivot(G_dense_mid)\n",
    "dense_mid_max_clique_cp = optimized_carraghan_pardalos(G_dense_mid)\n",
    "\n",
    "dense_mid_intersection_set_cp = dense_mid_largest.intersection(dense_mid_max_clique_cp)\n",
    "\n",
    "print(f\"Maximum clique {len(dense_mid_max_clique_cp)}: {dense_mid_max_clique_cp}\")\n",
    "print(f\"CP intersection set {len(dense_mid_intersection_set_cp)}: {dense_mid_intersection_set_cp}\")\n",
    "print(\"-\"*100)\n",
    "\n",
    "print(\"Bron-Kerbosh experiment\")\n",
    "bk_solver = BronKerbosch(G_dense_mid)\n",
    "dense_mid_max_clique_bk: set = bk_solver.find_max_clique()\n",
    "dense_mid_intersection_set_bk = dense_mid_largest.intersection(dense_mid_max_clique_bk)\n",
    "\n",
    "print(f\"Maximum clique {len(dense_mid_max_clique_bk)} {type(dense_mid_max_clique_bk)}: {dense_mid_max_clique_bk}\")\n",
    "print(f\"BK intersection set {len(dense_mid_intersection_set_bk)}: {dense_mid_intersection_set_bk}\")\n",
    "print(\"-\"*100)"
   ]
  },
  {
   "cell_type": "code",
   "execution_count": null,
   "metadata": {},
   "outputs": [
    {
     "name": "stdout",
     "output_type": "stream",
     "text": [
      "Tabu-Search experiment\n",
      "find_maximum_clique took 0.4033184580 seconds to execute\n",
      "Maximum clique 16: {'82', '80', '4', '74', '26', '71', '85', '69', '75', '77', '86', '68', '66', '7', '83', '79'}\n",
      "Tabu intersection set 0: set()\n",
      "----------------------------------------------------------------------------------------------------\n"
     ]
    },
    {
     "ename": "",
     "evalue": "",
     "output_type": "error",
     "traceback": [
      "\u001b[1;31mThe Kernel crashed while executing code in the current cell or a previous cell. \n",
      "\u001b[1;31mPlease review the code in the cell(s) to identify a possible cause of the failure. \n",
      "\u001b[1;31mClick <a href='https://aka.ms/vscodeJupyterKernelCrash'>here</a> for more info. \n",
      "\u001b[1;31mView Jupyter <a href='command:jupyter.viewOutput'>log</a> for further details."
     ]
    }
   ],
   "source": [
    "print(\"Tabu-Search experiment\")\n",
    "tabu_solver: TabuCliqueFinder = TabuCliqueFinder(G_dense_mid, tabu_tenure=100, max_iterations=500)\n",
    "dense_mid_max_clique_tabu: set = tabu_solver.find_maximum_clique()\n",
    "dense_mid_intersection_set_tabu = dense_mid_largest.intersection(dense_mid_max_clique_tabu)\n",
    "\n",
    "print(f\"Maximum clique {len(dense_mid_max_clique_tabu)}: {dense_mid_max_clique_tabu}\")\n",
    "print(f\"Tabu intersection set {len(dense_mid_intersection_set_tabu)}: {dense_mid_intersection_set_tabu}\")\n",
    "print(\"-\"*100)"
   ]
  },
  {
   "cell_type": "code",
   "execution_count": null,
   "metadata": {},
   "outputs": [],
   "source": []
  }
 ],
 "metadata": {
  "kernelspec": {
   "display_name": "venv",
   "language": "python",
   "name": "python3"
  },
  "language_info": {
   "codemirror_mode": {
    "name": "ipython",
    "version": 3
   },
   "file_extension": ".py",
   "mimetype": "text/x-python",
   "name": "python",
   "nbconvert_exporter": "python",
   "pygments_lexer": "ipython3",
   "version": "3.13.0"
  }
 },
 "nbformat": 4,
 "nbformat_minor": 2
}
