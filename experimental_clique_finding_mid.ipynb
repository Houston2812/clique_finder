{
 "cells": [
  {
   "cell_type": "markdown",
   "metadata": {},
   "source": [
    "# Execution of different clique finding algorithms"
   ]
  },
  {
   "cell_type": "code",
   "execution_count": 1,
   "metadata": {},
   "outputs": [],
   "source": [
    "from libs import *\n",
    "files = {\n",
    "    \"nc_mid\" : \"graphs/multiple/nc_mid_clique.json\",\n",
    "    \"sparse_mid\" : \"graphs/multiple/sparse_mid_clique.json\",\n",
    "    \"dense_mid\" : \"graphs/multiple/dense_mid_clique.json\",\n",
    "}"
   ]
  },
  {
   "cell_type": "code",
   "execution_count": 2,
   "metadata": {},
   "outputs": [
    {
     "name": "stdout",
     "output_type": "stream",
     "text": [
      "Graph Analysis:\n",
      "Number of nodes: 338\n",
      "Number of edges: 3804\n",
      "Average degree: 22.51\n",
      "Density: 0.067\n",
      "Maximum clique: {'192', '193', '194', '185', '182', '180', '183', '197', '201', '189', '200', '190', '204', '199', '181', '196', '202', '191', '176', '187', '177', '186', '195', '178', '203', '188', '198', '184', '179'}\n"
     ]
    }
   ],
   "source": [
    "nc_mid = files[\"nc_mid\"]\n",
    "G_nc_mid = load_graph_from_json(nc_mid)\n",
    "nc_mid_largest = set(analyze_graph(G_nc_mid))"
   ]
  },
  {
   "cell_type": "code",
   "execution_count": 3,
   "metadata": {},
   "outputs": [
    {
     "name": "stdout",
     "output_type": "stream",
     "text": [
      "Graph Analysis:\n",
      "Number of nodes: 338\n",
      "Number of edges: 9756\n",
      "Average degree: 57.73\n",
      "Density: 0.171\n",
      "Maximum clique: {'192', '193', '194', '185', '182', '180', '183', '197', '201', '189', '200', '190', '204', '199', '181', '196', '202', '191', '176', '187', '177', '186', '195', '178', '203', '188', '198', '184', '179'}\n"
     ]
    }
   ],
   "source": [
    "sparse_mid = files[\"sparse_mid\"]\n",
    "G_sparse_mid = load_graph_from_json(sparse_mid)\n",
    "sparse_mid_largest = set(analyze_graph(G_sparse_mid))"
   ]
  },
  {
   "cell_type": "code",
   "execution_count": 4,
   "metadata": {},
   "outputs": [
    {
     "name": "stdout",
     "output_type": "stream",
     "text": [
      "Graph Analysis:\n",
      "Number of nodes: 135\n",
      "Number of edges: 4927\n",
      "Average degree: 72.99\n",
      "Density: 0.545\n",
      "Maximum clique: {'42', '0', '4', '3', '5', '56', '57', '55', '86', '134', '133', '53', '82', '114', '44', '2', '83', '13', '85'}\n"
     ]
    }
   ],
   "source": [
    "dense_mid = files[\"dense_mid\"]\n",
    "G_dense_mid = load_graph_from_json(dense_mid)\n",
    "dense_mid_largest = set(analyze_graph(G_dense_mid))"
   ]
  },
  {
   "cell_type": "code",
   "execution_count": 13,
   "metadata": {},
   "outputs": [
    {
     "name": "stdout",
     "output_type": "stream",
     "text": [
      "Size of max clique for nc: 29\n",
      "Size of max clique for sparse: 29\n",
      "Size of max clique for dense: 19\n"
     ]
    }
   ],
   "source": [
    "print(f\"Size of max clique for nc: {len(nc_mid_largest)}\")\n",
    "print(f\"Size of max clique for sparse: {len(sparse_mid_largest)}\")\n",
    "print(f\"Size of max clique for dense: {len(dense_mid_largest)}\")"
   ]
  },
  {
   "cell_type": "code",
   "execution_count": 5,
   "metadata": {},
   "outputs": [
    {
     "name": "stdout",
     "output_type": "stream",
     "text": [
      "Not connected mid graph analysis\n",
      "\n",
      "\n",
      "Carraghan-Pardalos experiment\n",
      "optimized_carraghan_pardalos took 0.0234130272 seconds to execute\n",
      "Maximum clique 29: {'191', '192', '202', '193', '194', '185', '176', '187', '182', '177', '186', '180', '195', '183', '197', '178', '203', '201', '189', '200', '190', '204', '184', '199', '188', '198', '179', '181', '196'}\n",
      "CP intersection set 29: {'192', '193', '194', '185', '182', '180', '183', '197', '201', '189', '200', '190', '204', '199', '181', '196', '191', '202', '176', '187', '177', '186', '195', '178', '203', '184', '188', '198', '179'}\n",
      "----------------------------------------------------------------------------------------------------\n",
      "Bron-Kerbosh experiment\n",
      "find_max_clique took 0.0075555821 seconds to execute\n",
      "Maximum clique 29 <class 'set'>: {'191', '192', '202', '193', '194', '185', '176', '187', '182', '177', '186', '180', '195', '183', '197', '178', '203', '201', '189', '200', '190', '204', '199', '188', '184', '198', '179', '181', '196'}\n",
      "BK intersection set 29: {'192', '193', '194', '185', '182', '180', '183', '197', '201', '189', '200', '190', '204', '199', '181', '196', '191', '202', '176', '187', '177', '186', '195', '178', '203', '188', '184', '198', '179'}\n",
      "----------------------------------------------------------------------------------------------------\n",
      "Tabu-Search experiment\n"
     ]
    },
    {
     "name": "stdout",
     "output_type": "stream",
     "text": [
      "find_maximum_clique took 0.1396307100 seconds to execute\n",
      "Maximum clique 27: {'244', '247', '237', '248', '239', '255', '234', '232', '252', '242', '243', '238', '249', '246', '253', '230', '241', '250', '229', '245', '235', '240', '231', '236', '233', '251', '254'}\n",
      "Tabu intersection set 0: set()\n",
      "----------------------------------------------------------------------------------------------------\n"
     ]
    }
   ],
   "source": [
    "print(\"Not connected mid graph analysis\\n\\n\")\n",
    "\n",
    "print(\"Carraghan-Pardalos experiment\")\n",
    "# cp_solver: CarraghanPardalosCF = CarraghanPardalosCF(G_nc_mid)\n",
    "# nc_mid_max_clique_cp: set = cp_solver.find_maximum_clique()\n",
    "nc_mid_max_clique_cp = optimized_carraghan_pardalos(G_nc_mid)\n",
    "nc_mid_intersection_set_cp = nc_mid_largest.intersection(nc_mid_max_clique_cp)\n",
    "\n",
    "print(f\"Maximum clique {len(nc_mid_max_clique_cp)}: {nc_mid_max_clique_cp}\")\n",
    "print(f\"CP intersection set {len(nc_mid_intersection_set_cp)}: {nc_mid_intersection_set_cp}\")\n",
    "print(\"-\"*100)\n",
    "\n",
    "print(\"Bron-Kerbosh experiment\")\n",
    "bk_solver = BronKerbosch(G_nc_mid)\n",
    "nc_mid_max_clique_bk: set = bk_solver.find_max_clique()\n",
    "nc_mid_intersection_set_bk = nc_mid_largest.intersection(nc_mid_max_clique_bk)\n",
    "\n",
    "print(f\"Maximum clique {len(nc_mid_max_clique_bk)} {type(nc_mid_max_clique_bk)}: {nc_mid_max_clique_bk}\")\n",
    "print(f\"BK intersection set {len(nc_mid_intersection_set_bk)}: {nc_mid_intersection_set_bk}\")\n",
    "print(\"-\"*100)\n",
    "\n",
    "\n",
    "print(\"Tabu-Search experiment\")\n",
    "tabu_solver: TabuCliqueFinder = TabuCliqueFinder(G_nc_mid, tabu_tenure=10, max_iterations=150)\n",
    "nc_mid_max_clique_tabu: set = tabu_solver.find_maximum_clique()\n",
    "nc_mid_intersection_set_tabu = nc_mid_largest.intersection(nc_mid_max_clique_tabu)\n",
    "\n",
    "print(f\"Maximum clique {len(nc_mid_max_clique_tabu)}: {nc_mid_max_clique_tabu}\")\n",
    "print(f\"Tabu intersection set {len(nc_mid_intersection_set_tabu)}: {nc_mid_intersection_set_tabu}\")\n",
    "print(\"-\"*100)"
   ]
  },
  {
   "cell_type": "code",
   "execution_count": 11,
   "metadata": {},
   "outputs": [
    {
     "name": "stdout",
     "output_type": "stream",
     "text": [
      "Nodes: 338\n",
      "Tabu-Search experiment\n"
     ]
    },
    {
     "name": "stdout",
     "output_type": "stream",
     "text": [
      "find_maximum_clique took 0.1361500069 seconds to execute\n",
      "Maximum clique 25: {'151', '152', '170', '166', '158', '167', '175', '155', '156', '163', '165', '172', '159', '173', '154', '162', '160', '153', '164', '157', '174', '161', '171', '168', '169'}\n",
      "Tabu intersection set 0: set()\n",
      "----------------------------------------------------------------------------------------------------\n"
     ]
    }
   ],
   "source": [
    "nodes: int = G_nc_mid.number_of_nodes() \n",
    "tabu_tenure: int = nodes // 4\n",
    "\n",
    "print(f\"Nodes: {nodes}\")\n",
    "\n",
    "print(\"Tabu-Search experiment\")\n",
    "tabu_solver_2: TabuCliqueFinder = TabuCliqueFinder(G_nc_mid, tabu_tenure=tabu_tenure, max_iterations=150)\n",
    "nc_mid_max_clique_tabu_2: set = tabu_solver_2.find_maximum_clique()\n",
    "nc_mid_intersection_set_tabu_2 = sparse_mid_largest.intersection(nc_mid_max_clique_tabu_2)\n",
    "\n",
    "print(f\"Maximum clique {len(nc_mid_max_clique_tabu_2)}: {nc_mid_max_clique_tabu_2}\")\n",
    "print(f\"Tabu intersection set {len(nc_mid_intersection_set_tabu_2)}: {nc_mid_intersection_set_tabu_2}\")\n",
    "print(\"-\"*100)"
   ]
  },
  {
   "cell_type": "code",
   "execution_count": 7,
   "metadata": {},
   "outputs": [
    {
     "name": "stdout",
     "output_type": "stream",
     "text": [
      "Sparsly connected mid graph\n",
      "Carraghan-Pardalos experiment\n"
     ]
    },
    {
     "name": "stdout",
     "output_type": "stream",
     "text": [
      "optimized_carraghan_pardalos took 0.1044791620 seconds to execute\n",
      "Maximum clique 29: {'191', '192', '202', '193', '194', '185', '176', '187', '177', '186', '182', '180', '195', '183', '197', '178', '203', '201', '189', '200', '190', '184', '199', '198', '188', '204', '179', '181', '196'}\n",
      "CP intersection set 29: {'192', '193', '194', '185', '182', '180', '183', '197', '201', '189', '200', '190', '199', '204', '181', '196', '191', '202', '176', '187', '177', '186', '195', '178', '203', '184', '198', '188', '179'}\n",
      "----------------------------------------------------------------------------------------------------\n",
      "Bron-Kerbosh experiment\n",
      "find_max_clique took 0.1475323290 seconds to execute\n",
      "Maximum clique 29 <class 'set'>: {'191', '192', '202', '193', '194', '185', '176', '187', '182', '177', '186', '180', '195', '183', '197', '178', '203', '201', '189', '200', '190', '199', '184', '204', '188', '198', '179', '181', '196'}\n",
      "BK intersection set 29: {'192', '193', '194', '185', '182', '180', '183', '197', '201', '189', '200', '190', '199', '204', '181', '196', '191', '202', '176', '187', '177', '186', '195', '178', '203', '184', '188', '198', '179'}\n",
      "----------------------------------------------------------------------------------------------------\n",
      "Tabu-Search experiment\n",
      "find_maximum_clique took 0.2318839070 seconds to execute\n",
      "Maximum clique 27: {'278', '293', '275', '284', '298', '295', '286', '291', '282', '296', '294', '283', '281', '301', '289', '297', '279', '280', '290', '277', '287', '292', '300', '276', '285', '299', '288'}\n",
      "Tabu intersection set 0: set()\n",
      "----------------------------------------------------------------------------------------------------\n"
     ]
    }
   ],
   "source": [
    "\n",
    "print(\"Sparsly connected mid graph\")\n",
    "\n",
    "print(\"Carraghan-Pardalos experiment\")\n",
    "# cp_solver: CarraghanPardalosCF = CarraghanPardalosCF(G_sparse_mid)\n",
    "# sparse_mid_max_clique_cp: set = cp_solver.find_maximum_clique()\n",
    "sparse_mid_max_clique_cp = optimized_carraghan_pardalos(G_sparse_mid)\n",
    "sparse_mid_intersection_set_cp = sparse_mid_largest.intersection(sparse_mid_max_clique_cp)\n",
    "\n",
    "print(f\"Maximum clique {len(sparse_mid_max_clique_cp)}: {sparse_mid_max_clique_cp}\")\n",
    "print(f\"CP intersection set {len(sparse_mid_intersection_set_cp)}: {sparse_mid_intersection_set_cp}\")\n",
    "print(\"-\"*100)\n",
    "\n",
    "print(\"Bron-Kerbosh experiment\")\n",
    "bk_solver = BronKerbosch(G_sparse_mid)\n",
    "sparse_mid_max_clique_bk: set = bk_solver.find_max_clique()\n",
    "sparse_mid_intersection_set_bk = sparse_mid_largest.intersection(sparse_mid_max_clique_bk)\n",
    "\n",
    "print(f\"Maximum clique {len(sparse_mid_max_clique_bk)} {type(sparse_mid_max_clique_bk)}: {sparse_mid_max_clique_bk}\")\n",
    "print(f\"BK intersection set {len(sparse_mid_intersection_set_bk)}: {sparse_mid_intersection_set_bk}\")\n",
    "print(\"-\"*100)\n",
    "\n",
    "\n",
    "print(\"Tabu-Search experiment\")\n",
    "tabu_solver: TabuCliqueFinder = TabuCliqueFinder(G_sparse_mid, tabu_tenure=20, max_iterations=150)\n",
    "sparse_mid_max_clique_tabu: set = tabu_solver.find_maximum_clique()\n",
    "sparse_mid_intersection_set_tabu = sparse_mid_largest.intersection(sparse_mid_max_clique_tabu)\n",
    "\n",
    "print(f\"Maximum clique {len(sparse_mid_max_clique_tabu)}: {sparse_mid_max_clique_tabu}\")\n",
    "print(f\"Tabu intersection set {len(sparse_mid_intersection_set_tabu)}: {sparse_mid_intersection_set_tabu}\")\n",
    "print(\"-\"*100)"
   ]
  },
  {
   "cell_type": "code",
   "execution_count": 8,
   "metadata": {},
   "outputs": [
    {
     "name": "stdout",
     "output_type": "stream",
     "text": [
      "Nodes: 338\n",
      "Tabu-Search experiment\n",
      "find_maximum_clique took 0.2243591691 seconds to execute\n",
      "Maximum clique 16: {'303', '315', '310', '311', '308', '302', '304', '317', '305', '307', '316', '306', '312', '314', '309', '313'}\n",
      "Tabu intersection set 0: set()\n",
      "----------------------------------------------------------------------------------------------------\n"
     ]
    }
   ],
   "source": [
    "nodes: int = G_sparse_mid.number_of_nodes() \n",
    "tabu_tenure: int = nodes // 4\n",
    "\n",
    "print(f\"Nodes: {nodes}\")\n",
    "\n",
    "print(\"Tabu-Search experiment\")\n",
    "tabu_solver_2: TabuCliqueFinder = TabuCliqueFinder(G_sparse_mid, tabu_tenure=tabu_tenure, max_iterations=150)\n",
    "sparse_mid_max_clique_tabu_2: set = tabu_solver_2.find_maximum_clique()\n",
    "sparse_mid_intersection_set_tabu_2 = sparse_mid_largest.intersection(sparse_mid_max_clique_tabu_2)\n",
    "\n",
    "print(f\"Maximum clique {len(sparse_mid_max_clique_tabu_2)}: {sparse_mid_max_clique_tabu_2}\")\n",
    "print(f\"Tabu intersection set {len(sparse_mid_intersection_set_tabu_2)}: {sparse_mid_intersection_set_tabu_2}\")\n",
    "print(\"-\"*100)"
   ]
  },
  {
   "cell_type": "code",
   "execution_count": 12,
   "metadata": {},
   "outputs": [
    {
     "name": "stdout",
     "output_type": "stream",
     "text": [
      "Densly connected mid graph\n",
      "Carraghan-Pardalos experiment\n",
      "optimized_carraghan_pardalos took 48.7570039090 seconds to execute\n",
      "Maximum clique 19: {'57', '55', '86', '133', '53', '82', '42', '44', '114', '0', '4', '15', '3', '2', '5', '83', '13', '85', '56'}\n",
      "CP intersection set 18: {'57', '55', '86', '3', '13', '53', '133', '82', '2', '5', '83', '42', '114', '44', '0', '85', '4', '56'}\n",
      "----------------------------------------------------------------------------------------------------\n",
      "Bron-Kerbosh experiment\n",
      "find_max_clique took 2.8862468831 seconds to execute\n",
      "Maximum clique 19 <class 'set'>: {'57', '55', '86', '134', '133', '53', '82', '42', '44', '0', '114', '4', '3', '2', '5', '83', '13', '85', '56'}\n",
      "BK intersection set 19: {'42', '0', '4', '3', '5', '56', '57', '55', '86', '134', '133', '53', '82', '114', '44', '2', '83', '13', '85'}\n",
      "----------------------------------------------------------------------------------------------------\n",
      "Tabu-Search experiment\n",
      "find_maximum_clique took 0.1753132411 seconds to execute\n",
      "Maximum clique 13: {'1', '86', '8', '3', '12', '112', '113', '34', '42', '54', '13', '0', '18'}\n",
      "Tabu intersection set 5: {'86', '3', '42', '13', '0'}\n",
      "----------------------------------------------------------------------------------------------------\n"
     ]
    }
   ],
   "source": [
    "print(\"Densly connected mid graph\")\n",
    "\n",
    "print(\"Carraghan-Pardalos experiment\")\n",
    "# cp_solver: CarraghanPardalosCF = CarraghanPardalosCF(G_dense_mid)\n",
    "# dense_mid_max_clique_cp: set = cp_solver.find_maximum_clique()\n",
    "dense_mid_max_clique_cp = optimized_carraghan_pardalos(G_dense_mid)\n",
    "dense_mid_intersection_set_cp = dense_mid_largest.intersection(dense_mid_max_clique_cp)\n",
    "\n",
    "print(f\"Maximum clique {len(dense_mid_max_clique_cp)}: {dense_mid_max_clique_cp}\")\n",
    "print(f\"CP intersection set {len(dense_mid_intersection_set_cp)}: {dense_mid_intersection_set_cp}\")\n",
    "print(\"-\"*100)\n",
    "\n",
    "print(\"Bron-Kerbosh experiment\")\n",
    "bk_solver = BronKerbosch(G_dense_mid)\n",
    "dense_mid_max_clique_bk: set = bk_solver.find_max_clique()\n",
    "dense_mid_intersection_set_bk = dense_mid_largest.intersection(dense_mid_max_clique_bk)\n",
    "\n",
    "print(f\"Maximum clique {len(dense_mid_max_clique_bk)} {type(dense_mid_max_clique_bk)}: {dense_mid_max_clique_bk}\")\n",
    "print(f\"BK intersection set {len(dense_mid_intersection_set_bk)}: {dense_mid_intersection_set_bk}\")\n",
    "print(\"-\"*100)\n",
    "\n",
    "print(\"Tabu-Search experiment\")\n",
    "tabu_solver: TabuCliqueFinder = TabuCliqueFinder(G_dense_mid, tabu_tenure=20, max_iterations=150)\n",
    "dense_mid_max_clique_tabu: set = tabu_solver.find_maximum_clique()\n",
    "dense_mid_intersection_set_tabu = dense_mid_largest.intersection(dense_mid_max_clique_tabu)\n",
    "\n",
    "print(f\"Maximum clique {len(dense_mid_max_clique_tabu)}: {dense_mid_max_clique_tabu}\")\n",
    "print(f\"Tabu intersection set {len(dense_mid_intersection_set_tabu)}: {dense_mid_intersection_set_tabu}\")\n",
    "print(\"-\"*100)"
   ]
  },
  {
   "cell_type": "code",
   "execution_count": 10,
   "metadata": {},
   "outputs": [
    {
     "name": "stdout",
     "output_type": "stream",
     "text": [
      "Nodes: 135\n",
      "Tabu-Search experiment\n"
     ]
    },
    {
     "name": "stdout",
     "output_type": "stream",
     "text": [
      "find_maximum_clique took 0.1786371900 seconds to execute\n",
      "Maximum clique 15: {'57', '15', '55', '86', '3', '44', '133', '53', '132', '42', '113', '114', '13', '0', '56'}\n",
      "Tabu intersection set 12: {'57', '55', '86', '3', '13', '133', '53', '42', '114', '44', '0', '56'}\n",
      "----------------------------------------------------------------------------------------------------\n"
     ]
    }
   ],
   "source": [
    "nodes: int = G_dense_mid.number_of_nodes() \n",
    "tabu_tenure: int = nodes // 4\n",
    "\n",
    "print(f\"Nodes: {nodes}\")\n",
    "\n",
    "print(\"Tabu-Search experiment\")\n",
    "tabu_solver_2: TabuCliqueFinder = TabuCliqueFinder(G_dense_mid, tabu_tenure=tabu_tenure, max_iterations=150)\n",
    "dense_mid_max_clique_tabu_2: set = tabu_solver_2.find_maximum_clique()\n",
    "dense_mid_intersection_set_tabu_2 = dense_mid_largest.intersection(dense_mid_max_clique_tabu_2)\n",
    "\n",
    "print(f\"Maximum clique {len(dense_mid_max_clique_tabu_2)}: {dense_mid_max_clique_tabu_2}\")\n",
    "print(f\"Tabu intersection set {len(dense_mid_intersection_set_tabu_2)}: {dense_mid_intersection_set_tabu_2}\")\n",
    "print(\"-\"*100)"
   ]
  }
 ],
 "metadata": {
  "kernelspec": {
   "display_name": "venv",
   "language": "python",
   "name": "python3"
  },
  "language_info": {
   "codemirror_mode": {
    "name": "ipython",
    "version": 3
   },
   "file_extension": ".py",
   "mimetype": "text/x-python",
   "name": "python",
   "nbconvert_exporter": "python",
   "pygments_lexer": "ipython3",
   "version": "3.10.12"
  }
 },
 "nbformat": 4,
 "nbformat_minor": 2
}
