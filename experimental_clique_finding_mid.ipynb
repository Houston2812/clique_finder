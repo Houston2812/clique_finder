{
 "cells": [
  {
   "cell_type": "markdown",
   "metadata": {},
   "source": [
    "# Execution of different clique finding algorithms"
   ]
  },
  {
   "cell_type": "code",
   "execution_count": 1,
   "metadata": {},
   "outputs": [],
   "source": [
    "from libs import *\n",
    "files = {\n",
    "    \"nc_mid\" : \"graphs/research/nc_mid_clique.json\",\n",
    "    \"sparse_mid\" : \"graphs/research/sparse_mid_clique.json\",\n",
    "    \"dense_mid\" : \"graphs/research/dense_mid_clique.json\",\n",
    "}"
   ]
  },
  {
   "cell_type": "code",
   "execution_count": 8,
   "metadata": {},
   "outputs": [
    {
     "name": "stdout",
     "output_type": "stream",
     "text": [
      "Graph Analysis:\n",
      "Number of nodes: 235\n",
      "Number of edges: 2506\n",
      "Average degree: 21.33\n",
      "Density: 0.091\n",
      "11 cliques are present in the Graph\n",
      "\n",
      "5 Largest Cliques:\n",
      "\tClique 1: Size=30, Nodes=['3', '9', '11', '15', '1', '28', '20', '18', '19', '10', '13', '21', '8', '12', '27', '26', '4', '29', '16', '14', '2', '24', '7', '6', '25', '0', '22', '23', '5', '17']\n",
      "\tClique 2: Size=29, Nodes=['151', '161', '136', '153', '134', '137', '149', '157', '138', '142', '141', '133', '155', '145', '143', '147', '150', '140', '158', '144', '146', '152', '154', '160', '139', '148', '159', '135', '156']\n",
      "\tClique 3: Size=24, Nodes=['34', '48', '51', '49', '31', '36', '35', '43', '30', '45', '44', '53', '46', '32', '47', '39', '52', '41', '37', '50', '42', '40', '38', '33']\n",
      "\tClique 4: Size=23, Nodes=['127', '118', '111', '110', '123', '126', '113', '131', '132', '121', '122', '114', '120', '129', '116', '130', '119', '115', '112', '124', '125', '117', '128']\n",
      "\tClique 5: Size=21, Nodes=['182', '183', '188', '201', '189', '199', '197', '185', '198', '194', '190', '195', '186', '202', '191', '196', '193', '187', '192', '184', '200']\n",
      "Graph Analysis:\n",
      "Number of nodes: 287\n",
      "Number of edges: 7641\n",
      "Average degree: 53.25\n",
      "Density: 0.186\n",
      "5850 cliques are present in the Graph\n",
      "\n",
      "5 Largest Cliques:\n",
      "\tClique 1: Size=30, Nodes=['97', '94', '88', '106', '99', '107', '101', '95', '96', '111', '110', '98', '109', '104', '113', '114', '100', '103', '105', '116', '90', '92', '108', '115', '112', '87', '102', '91', '93', '89']\n",
      "\tClique 2: Size=27, Nodes=['28', '20', '35', '24', '17', '31', '36', '34', '18', '27', '19', '30', '26', '21', '29', '16', '32', '39', '25', '41', '37', '22', '23', '42', '40', '38', '33']\n",
      "\tClique 3: Size=26, Nodes=['127', '128', '136', '126', '125', '117', '121', '129', '118', '137', '133', '124', '131', '122', '120', '138', '142', '141', '140', '130', '119', '134', '123', '139', '132', '135']\n",
      "\tClique 4: Size=26, Nodes=['216', '211', '219', '227', '220', '225', '231', '232', '213', '223', '224', '235', '212', '215', '217', '218', '229', '222', '214', '233', '234', '221', '236', '226', '228', '230']\n",
      "\tClique 5: Size=26, Nodes=['279', '270', '280', '278', '283', '263', '285', '266', '281', '261', '267', '265', '264', '277', '269', '268', '282', '276', '271', '284', '274', '286', '275', '272', '273', '262']\n",
      "Graph Analysis:\n",
      "Number of nodes: 287\n",
      "Number of edges: 24657\n",
      "Average degree: 171.83\n",
      "Density: 0.601\n",
      "66039721 cliques are present in the Graph\n",
      "\n",
      "5 Largest Cliques:\n",
      "\tClique 1: Size=30, Nodes=['111', '96', '101', '93', '109', '110', '103', '90', '104', '92', '98', '105', '95', '113', '99', '115', '87', '89', '91', '114', '97', '100', '88', '116', '94', '108', '102', '106', '112', '107']\n",
      "\tClique 2: Size=27, Nodes=['18', '34', '33', '39', '41', '16', '23', '24', '29', '28', '22', '36', '42', '19', '26', '40', '31', '35', '30', '37', '20', '38', '27', '32', '25', '21', '17']\n",
      "\tClique 3: Size=26, Nodes=['219', '218', '224', '222', '231', '213', '216', '233', '212', '214', '215', '211', '235', '229', '230', '217', '227', '223', '220', '232', '234', '226', '228', '225', '236', '221']\n",
      "\tClique 4: Size=26, Nodes=['127', '123', '118', '134', '126', '132', '125', '141', '138', '136', '131', '130', '137', '119', '124', '133', '129', '128', '142', '122', '121', '120', '139', '140', '117', '135']\n",
      "\tClique 5: Size=26, Nodes=['263', '272', '265', '276', '268', '270', '264', '261', '273', '267', '285', '282', '278', '275', '279', '277', '284', '280', '266', '283', '274', '286', '262', '271', '269', '281']\n"
     ]
    }
   ],
   "source": [
    "nc_mid = files[\"nc_mid\"]\n",
    "G_nc_mid = load_graph_from_json(nc_mid)\n",
    "\n",
    "sparse_mid = files[\"sparse_mid\"]\n",
    "G_sparse_mid = load_graph_from_json(sparse_mid)\n",
    "\n",
    "dense_mid = files[\"dense_mid\"]\n",
    "G_dense_mid = load_graph_from_json(dense_mid)\n",
    "\n",
    "nc_mid_largest = set(analyze_graph(G_nc_mid))\n",
    "sparse_mid_largest = set(analyze_graph(G_sparse_mid))\n",
    "dense_mid_largest = set(analyze_graph(G_dense_mid))"
   ]
  },
  {
   "cell_type": "code",
   "execution_count": 12,
   "metadata": {},
   "outputs": [
    {
     "name": "stdout",
     "output_type": "stream",
     "text": [
      "Not connected mid graph analysis\n",
      "\n",
      "\n",
      "Carraghan-Pardalos experiment\n",
      "carraghan_pardalos_maximal_clique_pivot took 0.0023735410 seconds to execute\n",
      "Maximum clique 30: {'3', '8', '12', '9', '11', '26', '4', '14', '24', '15', '1', '28', '0', '20', '22', '5', '18', '19', '17', '27', '10', '13', '21', '29', '16', '2', '7', '6', '25', '23'}\n",
      "CP intersection set 30: {'3', '9', '11', '15', '1', '28', '20', '19', '18', '10', '13', '21', '29', '6', '23', '8', '12', '26', '4', '14', '24', '0', '22', '5', '17', '27', '16', '2', '7', '25'}\n",
      "----------------------------------------------------------------------------------------------------\n",
      "Bron-Kerbosh experiment\n",
      "find_max_clique took 0.0023752081 seconds to execute\n",
      "Maximum clique 30 <class 'set'>: {'3', '8', '12', '9', '11', '26', '4', '14', '24', '15', '1', '28', '0', '20', '22', '5', '18', '19', '17', '27', '10', '13', '21', '29', '16', '2', '7', '6', '25', '23'}\n",
      "BK intersection set 30: {'3', '9', '11', '15', '1', '28', '20', '19', '18', '10', '13', '21', '29', '6', '23', '8', '12', '26', '4', '14', '24', '0', '22', '5', '17', '27', '16', '2', '7', '25'}\n",
      "----------------------------------------------------------------------------------------------------\n",
      "Tabu-Search experiment\n",
      "find_maximum_clique took 0.0449231250 seconds to execute\n",
      "Maximum clique 21: {'183', '189', '188', '199', '197', '182', '198', '190', '195', '186', '194', '184', '200', '201', '185', '202', '196', '187', '192', '191', '193'}\n",
      "Tabu intersection set 0: set()\n",
      "----------------------------------------------------------------------------------------------------\n"
     ]
    }
   ],
   "source": [
    "print(\"Not connected mid graph analysis\\n\\n\")\n",
    "\n",
    "print(\"Carraghan-Pardalos experiment\")\n",
    "# cp_solver: CarraghanPardalosCF = CarraghanPardalosCF(G_nc_mid)\n",
    "# nc_mid_max_clique_cp: set = cp_solver.find_maximum_clique()\n",
    "nc_mid_max_clique_cp = carraghan_pardalos_maximal_clique_pivot(G_nc_mid)\n",
    "nc_mid_intersection_set_cp = nc_mid_largest.intersection(nc_mid_max_clique_cp)\n",
    "\n",
    "print(f\"Maximum clique {len(nc_mid_max_clique_cp)}: {nc_mid_max_clique_cp}\")\n",
    "print(f\"CP intersection set {len(nc_mid_intersection_set_cp)}: {nc_mid_intersection_set_cp}\")\n",
    "print(\"-\"*100)\n",
    "\n",
    "print(\"Bron-Kerbosh experiment\")\n",
    "bk_solver = BronKerbosch(G_nc_mid)\n",
    "nc_mid_max_clique_bk: set = bk_solver.find_max_clique()\n",
    "nc_mid_intersection_set_bk = nc_mid_largest.intersection(nc_mid_max_clique_bk)\n",
    "\n",
    "print(f\"Maximum clique {len(nc_mid_max_clique_bk)} {type(nc_mid_max_clique_bk)}: {nc_mid_max_clique_bk}\")\n",
    "print(f\"BK intersection set {len(nc_mid_intersection_set_bk)}: {nc_mid_intersection_set_bk}\")\n",
    "print(\"-\"*100)\n",
    "\n",
    "\n",
    "print(\"Tabu-Search experiment\")\n",
    "tabu_solver: TabuCliqueFinder = TabuCliqueFinder(G_nc_mid, tabu_tenure=10, max_iterations=400)\n",
    "nc_mid_max_clique_tabu: set = tabu_solver.find_maximum_clique()\n",
    "nc_mid_intersection_set_tabu = nc_mid_largest.intersection(nc_mid_max_clique_tabu)\n",
    "\n",
    "print(f\"Maximum clique {len(nc_mid_max_clique_tabu)}: {nc_mid_max_clique_tabu}\")\n",
    "print(f\"Tabu intersection set {len(nc_mid_intersection_set_tabu)}: {nc_mid_intersection_set_tabu}\")\n",
    "print(\"-\"*100)"
   ]
  },
  {
   "cell_type": "code",
   "execution_count": 13,
   "metadata": {},
   "outputs": [
    {
     "name": "stdout",
     "output_type": "stream",
     "text": [
      "Sparsly connected mid graph\n",
      "Carraghan-Pardalos experiment\n",
      "carraghan_pardalos_maximal_clique_pivot took 0.1007916250 seconds to execute\n",
      "Maximum clique 30: {'100', '116', '95', '108', '101', '92', '99', '106', '96', '112', '111', '110', '97', '91', '98', '107', '109', '104', '113', '114', '103', '88', '105', '94', '90', '115', '87', '102', '93', '89'}\n",
      "CP intersection set 30: {'101', '95', '106', '96', '111', '110', '97', '98', '104', '103', '105', '94', '115', '100', '116', '108', '92', '99', '112', '91', '107', '109', '113', '114', '88', '90', '87', '102', '93', '89'}\n",
      "----------------------------------------------------------------------------------------------------\n",
      "Bron-Kerbosh experiment\n",
      "find_max_clique took 0.0254239170 seconds to execute\n",
      "Maximum clique 30 <class 'set'>: {'100', '101', '116', '95', '108', '99', '92', '106', '96', '110', '112', '111', '97', '91', '98', '107', '109', '104', '113', '114', '103', '88', '105', '94', '90', '115', '87', '102', '93', '89'}\n",
      "BK intersection set 30: {'101', '95', '106', '96', '110', '111', '97', '98', '104', '103', '105', '94', '115', '100', '116', '108', '99', '92', '112', '91', '107', '109', '113', '114', '88', '90', '87', '102', '93', '89'}\n",
      "----------------------------------------------------------------------------------------------------\n",
      "Tabu-Search experiment\n",
      "find_maximum_clique took 0.0589680830 seconds to execute\n",
      "Maximum clique 8: {'215', '212', '235', '223', '234', '221', '28', '231'}\n",
      "Tabu intersection set 0: set()\n",
      "----------------------------------------------------------------------------------------------------\n"
     ]
    }
   ],
   "source": [
    "\n",
    "print(\"Sparsly connected mid graph\")\n",
    "\n",
    "print(\"Carraghan-Pardalos experiment\")\n",
    "# cp_solver: CarraghanPardalosCF = CarraghanPardalosCF(G_sparse_mid)\n",
    "# sparse_mid_max_clique_cp: set = cp_solver.find_maximum_clique()\n",
    "sparse_mid_max_clique_cp = carraghan_pardalos_maximal_clique_pivot(G_sparse_mid)\n",
    "sparse_mid_intersection_set_cp = sparse_mid_largest.intersection(sparse_mid_max_clique_cp)\n",
    "\n",
    "print(f\"Maximum clique {len(sparse_mid_max_clique_cp)}: {sparse_mid_max_clique_cp}\")\n",
    "print(f\"CP intersection set {len(sparse_mid_intersection_set_cp)}: {sparse_mid_intersection_set_cp}\")\n",
    "print(\"-\"*100)\n",
    "\n",
    "print(\"Bron-Kerbosh experiment\")\n",
    "bk_solver = BronKerbosch(G_sparse_mid)\n",
    "sparse_mid_max_clique_bk: set = bk_solver.find_max_clique()\n",
    "sparse_mid_intersection_set_bk = sparse_mid_largest.intersection(sparse_mid_max_clique_bk)\n",
    "\n",
    "print(f\"Maximum clique {len(sparse_mid_max_clique_bk)} {type(sparse_mid_max_clique_bk)}: {sparse_mid_max_clique_bk}\")\n",
    "print(f\"BK intersection set {len(sparse_mid_intersection_set_bk)}: {sparse_mid_intersection_set_bk}\")\n",
    "print(\"-\"*100)\n",
    "\n",
    "\n",
    "print(\"Tabu-Search experiment\")\n",
    "tabu_solver: TabuCliqueFinder = TabuCliqueFinder(G_sparse_mid, tabu_tenure=20, max_iterations=300)\n",
    "sparse_mid_max_clique_tabu: set = tabu_solver.find_maximum_clique()\n",
    "sparse_mid_intersection_set_tabu = sparse_mid_largest.intersection(sparse_mid_max_clique_tabu)\n",
    "\n",
    "print(f\"Maximum clique {len(sparse_mid_max_clique_tabu)}: {sparse_mid_max_clique_tabu}\")\n",
    "print(f\"Tabu intersection set {len(sparse_mid_intersection_set_tabu)}: {sparse_mid_intersection_set_tabu}\")\n",
    "print(\"-\"*100)"
   ]
  },
  {
   "cell_type": "code",
   "execution_count": 16,
   "metadata": {},
   "outputs": [
    {
     "name": "stdout",
     "output_type": "stream",
     "text": [
      "Densly connected mid graph\n",
      "Carraghan-Pardalos experiment\n",
      "carraghan_pardalos_maximal_clique_pivot took 4229.4035892499 seconds to execute\n",
      "Maximum clique 30: {'100', '116', '101', '95', '92', '108', '99', '96', '111', '106', '110', '112', '97', '91', '98', '107', '109', '104', '113', '114', '103', '88', '105', '94', '90', '115', '87', '102', '93', '89'}\n",
      "CP intersection set 30: {'95', '101', '96', '111', '106', '110', '97', '98', '104', '103', '105', '94', '115', '100', '116', '92', '108', '99', '112', '91', '107', '109', '113', '114', '88', '90', '87', '102', '93', '89'}\n",
      "----------------------------------------------------------------------------------------------------\n",
      "Bron-Kerbosh experiment\n",
      "find_max_clique took 174.8878326250 seconds to execute\n",
      "Maximum clique 30 <class 'set'>: {'100', '95', '101', '92', '108', '99', '116', '112', '106', '110', '96', '111', '97', '91', '98', '107', '109', '104', '113', '114', '103', '88', '105', '94', '90', '115', '87', '102', '93', '89'}\n",
      "BK intersection set 30: {'95', '101', '106', '96', '110', '111', '97', '98', '104', '103', '105', '94', '115', '100', '116', '108', '92', '99', '112', '91', '107', '109', '113', '114', '88', '90', '87', '102', '93', '89'}\n",
      "----------------------------------------------------------------------------------------------------\n",
      "Tabu-Search experiment\n",
      "find_maximum_clique took 0.2404072500 seconds to execute\n",
      "Maximum clique 12: {'104', '173', '9', '12', '10', '43', '119', '99', '106', '1', '97', '135'}\n",
      "Tabu intersection set 4: {'97', '104', '106', '99'}\n",
      "----------------------------------------------------------------------------------------------------\n"
     ]
    }
   ],
   "source": [
    "print(\"Densly connected mid graph\")\n",
    "\n",
    "print(\"Carraghan-Pardalos experiment\")\n",
    "# cp_solver: CarraghanPardalosCF = CarraghanPardalosCF(G_dense_mid)\n",
    "# dense_mid_max_clique_cp: set = cp_solver.find_maximum_clique()\n",
    "dense_mid_max_clique_cp = carraghan_pardalos_maximal_clique_pivot(G_dense_mid)\n",
    "dense_mid_intersection_set_cp = dense_mid_largest.intersection(dense_mid_max_clique_cp)\n",
    "\n",
    "print(f\"Maximum clique {len(dense_mid_max_clique_cp)}: {dense_mid_max_clique_cp}\")\n",
    "print(f\"CP intersection set {len(dense_mid_intersection_set_cp)}: {dense_mid_intersection_set_cp}\")\n",
    "print(\"-\"*100)\n",
    "\n",
    "print(\"Bron-Kerbosh experiment\")\n",
    "bk_solver = BronKerbosch(G_dense_mid)\n",
    "dense_mid_max_clique_bk: set = bk_solver.find_max_clique()\n",
    "dense_mid_intersection_set_bk = dense_mid_largest.intersection(dense_mid_max_clique_bk)\n",
    "\n",
    "print(f\"Maximum clique {len(dense_mid_max_clique_bk)} {type(dense_mid_max_clique_bk)}: {dense_mid_max_clique_bk}\")\n",
    "print(f\"BK intersection set {len(dense_mid_intersection_set_bk)}: {dense_mid_intersection_set_bk}\")\n",
    "print(\"-\"*100)\n",
    "\n",
    "print(\"Tabu-Search experiment\")\n",
    "tabu_solver: TabuCliqueFinder = TabuCliqueFinder(G_dense_mid, tabu_tenure=20, max_iterations=300)\n",
    "dense_mid_max_clique_tabu: set = tabu_solver.find_maximum_clique()\n",
    "dense_mid_intersection_set_tabu = dense_mid_largest.intersection(dense_mid_max_clique_tabu)\n",
    "\n",
    "print(f\"Maximum clique {len(dense_mid_max_clique_tabu)}: {dense_mid_max_clique_tabu}\")\n",
    "print(f\"Tabu intersection set {len(dense_mid_intersection_set_tabu)}: {dense_mid_intersection_set_tabu}\")\n",
    "print(\"-\"*100)"
   ]
  },
  {
   "cell_type": "code",
   "execution_count": null,
   "metadata": {},
   "outputs": [],
   "source": []
  }
 ],
 "metadata": {
  "kernelspec": {
   "display_name": "venv",
   "language": "python",
   "name": "python3"
  },
  "language_info": {
   "codemirror_mode": {
    "name": "ipython",
    "version": 3
   },
   "file_extension": ".py",
   "mimetype": "text/x-python",
   "name": "python",
   "nbconvert_exporter": "python",
   "pygments_lexer": "ipython3",
   "version": "3.13.0"
  }
 },
 "nbformat": 4,
 "nbformat_minor": 2
}
