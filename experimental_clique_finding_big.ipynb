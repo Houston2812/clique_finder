{
 "cells": [
  {
   "cell_type": "markdown",
   "metadata": {},
   "source": [
    "# Execution of different clique finding algorithms"
   ]
  },
  {
   "cell_type": "code",
   "execution_count": 2,
   "metadata": {},
   "outputs": [],
   "source": [
    "from libs import *\n",
    "files = {\n",
    "    \"nc_big\" : \"graphs/multiple/nc_big_clique.json\",\n",
    "    \"sparse_big\" : \"graphs/multiple/sparse_big_clique.json\",\n",
    "    \"dense_big\" : \"graphs/multiple/dense_big_clique.json\",\n",
    "}"
   ]
  },
  {
   "cell_type": "code",
   "execution_count": 2,
   "metadata": {},
   "outputs": [
    {
     "name": "stdout",
     "output_type": "stream",
     "text": [
      "Graph Analysis:\n",
      "Number of nodes: 2137\n",
      "Number of edges: 77564\n",
      "Average degree: 72.59\n",
      "Density: 0.034\n",
      "Maximum clique: {'88', '134', '147', '85', '141', '173', '106', '128', '99', '171', '170', '130', '123', '94', '98', '78', '125', '135', '110', '91', '139', '158', '164', '132', '115', '155', '149', '97', '84', '157', '122', '166', '119', '83', '146', '77', '107', '161', '152', '153', '150', '93', '102', '81', '136', '162', '95', '145', '144', '82', '109', '131', '118', '114', '89', '92', '142', '167', '148', '160', '120', '86', '168', '138', '79', '126', '108', '129', '159', '90', '156', '165', '117', '133', '96', '169', '80', '111', '105', '101', '121', '151', '143', '137', '163', '113', '100', '112', '87', '116', '103', '140', '127', '104', '172', '154', '124'}\n"
     ]
    }
   ],
   "source": [
    "nc_big = files[\"nc_big\"]\n",
    "G_nc_big = load_graph_from_json(nc_big)\n",
    "nc_big_largest = set(analyze_graph(G_nc_big))"
   ]
  },
  {
   "cell_type": "code",
   "execution_count": 3,
   "metadata": {},
   "outputs": [
    {
     "name": "stdout",
     "output_type": "stream",
     "text": [
      "Graph Analysis:\n",
      "Number of nodes: 2137\n",
      "Number of edges: 316173\n",
      "Average degree: 295.90\n",
      "Density: 0.139\n",
      "Maximum clique: {'88', '134', '147', '85', '141', '173', '106', '128', '99', '171', '170', '130', '94', '123', '98', '78', '125', '135', '110', '91', '139', '158', '164', '132', '115', '155', '149', '97', '84', '157', '122', '119', '166', '83', '146', '77', '107', '161', '152', '153', '150', '93', '102', '81', '136', '162', '95', '145', '144', '82', '109', '131', '118', '114', '89', '92', '142', '167', '148', '160', '120', '86', '168', '138', '79', '126', '108', '129', '159', '90', '156', '165', '117', '133', '96', '169', '80', '111', '105', '101', '121', '151', '143', '137', '163', '113', '100', '112', '87', '103', '116', '140', '127', '104', '172', '154', '124'}\n"
     ]
    }
   ],
   "source": [
    "sparse_big = files[\"sparse_big\"]\n",
    "G_sparse_big = load_graph_from_json(sparse_big)\n",
    "sparse_big_largest = set(analyze_graph(G_sparse_big))\n"
   ]
  },
  {
   "cell_type": "code",
   "execution_count": 3,
   "metadata": {},
   "outputs": [
    {
     "name": "stdout",
     "output_type": "stream",
     "text": [
      "Graph Analysis:\n",
      "Number of nodes: 2137\n",
      "Number of edges: 1319163\n",
      "Average degree: 1234.59\n",
      "Density: 0.578\n",
      "Maximum clique: {'153', '162', '104', '85', '156', '91', '127', '108', '110', '97', '143', '125', '113', '171', '130', '128', '81', '80', '79', '111', '155', '164', '117', '154', '99', '122', '140', '150', '89', '115', '169', '158', '78', '87', '124', '103', '133', '100', '146', '132', '139', '134', '145', '147', '151', '166', '135', '94', '157', '123', '148', '114', '82', '119', '144', '118', '141', '138', '98', '112', '126', '109', '116', '136', '105', '102', '159', '88', '84', '142', '90', '173', '83', '172', '161', '95', '93', '107', '77', '152', '163', '101', '131', '120', '167', '170', '168', '121', '96', '149', '92', '160', '165', '106', '129', '86', '137'}\n"
     ]
    }
   ],
   "source": [
    "dense_big = files[\"dense_big\"]\n",
    "G_dense_big = load_graph_from_json(dense_big)\n",
    "dense_big_largest = set(analyze_graph(G_dense_big))\n",
    "\n",
    "# max_clique_dense = max([139, 107, 190, 131, 152, 180, 177, 122, 165, 125, 185, 167, 132, 192, 138, 171])\n",
    "# print(max_clique_dense)"
   ]
  },
  {
   "cell_type": "code",
   "execution_count": 5,
   "metadata": {},
   "outputs": [
    {
     "name": "stdout",
     "output_type": "stream",
     "text": [
      "Not connected big graph analysis\n",
      "\n",
      "\n",
      "Carraghan-Pardalos experiment\n",
      "optimized_carraghan_pardalos took 0.7978469250 seconds to execute\n",
      "Maximum clique 97: {'88', '109', '134', '131', '147', '85', '118', '141', '114', '173', '106', '128', '99', '89', '171', '170', '130', '94', '123', '98', '92', '142', '167', '148', '78', '160', '120', '86', '125', '168', '138', '135', '79', '110', '91', '139', '158', '164', '132', '115', '155', '126', '108', '149', '129', '97', '159', '84', '90', '156', '165', '157', '117', '122', '133', '119', '166', '96', '169', '83', '80', '146', '111', '105', '101', '121', '77', '151', '143', '137', '163', '113', '107', '161', '100', '112', '152', '87', '103', '116', '153', '140', '150', '93', '127', '102', '81', '104', '136', '162', '95', '172', '145', '144', '154', '82', '124'}\n",
      "CP intersection set 97: {'88', '134', '147', '85', '141', '173', '106', '128', '99', '171', '170', '130', '94', '123', '98', '78', '125', '135', '110', '91', '139', '158', '164', '132', '115', '155', '149', '97', '84', '157', '122', '119', '166', '83', '146', '77', '107', '161', '152', '153', '150', '93', '102', '81', '136', '162', '95', '145', '144', '82', '109', '131', '118', '114', '89', '92', '142', '167', '148', '160', '120', '86', '168', '138', '79', '126', '108', '129', '159', '90', '156', '165', '117', '133', '96', '169', '80', '111', '105', '101', '121', '151', '143', '137', '163', '113', '100', '112', '87', '103', '116', '140', '127', '104', '172', '154', '124'}\n",
      "----------------------------------------------------------------------------------------------------\n",
      "Bron-Kerbosh experiment\n",
      "find_max_clique took 0.1353523000 seconds to execute\n",
      "Maximum clique 97 <class 'set'>: {'88', '109', '134', '131', '147', '118', '85', '141', '114', '173', '106', '128', '99', '89', '171', '170', '130', '92', '94', '123', '142', '98', '167', '148', '78', '160', '120', '86', '168', '125', '138', '135', '79', '110', '91', '139', '158', '164', '132', '115', '155', '126', '108', '149', '129', '97', '159', '84', '90', '156', '165', '157', '117', '122', '133', '119', '166', '96', '169', '83', '80', '146', '111', '105', '101', '121', '77', '151', '143', '137', '163', '113', '107', '161', '100', '112', '152', '87', '103', '116', '153', '140', '150', '93', '127', '102', '81', '104', '136', '162', '95', '172', '145', '144', '154', '82', '124'}\n",
      "BK intersection set 97: {'88', '134', '147', '85', '141', '173', '106', '128', '99', '171', '170', '130', '94', '123', '98', '78', '125', '135', '110', '91', '139', '158', '164', '132', '115', '155', '149', '97', '84', '157', '122', '119', '166', '83', '146', '77', '107', '161', '152', '153', '150', '93', '102', '81', '136', '162', '95', '145', '144', '82', '109', '131', '118', '114', '89', '92', '142', '167', '148', '160', '120', '86', '168', '138', '79', '126', '108', '129', '159', '90', '156', '165', '117', '133', '96', '169', '80', '111', '105', '101', '121', '151', '143', '137', '163', '113', '100', '112', '87', '103', '116', '140', '127', '104', '172', '154', '124'}\n",
      "----------------------------------------------------------------------------------------------------\n",
      "Tabu-Search experiment\n",
      "find_maximum_clique took 4.2182050270 seconds to execute\n",
      "Maximum clique 85: {'1985', '2048', '2049', '2037', '1990', '2065', '2018', '1994', '2015', '2057', '2061', '1987', '2051', '2055', '2045', '2027', '2039', '1995', '2043', '2017', '2014', '2019', '2047', '2035', '2002', '2059', '2030', '2042', '1992', '2066', '2029', '2022', '2023', '1998', '2036', '2062', '2005', '2064', '2021', '2060', '2032', '2046', '2004', '2011', '2067', '2034', '2012', '2031', '2038', '2024', '2044', '2010', '2001', '1999', '1993', '2025', '2054', '2020', '1997', '2013', '2063', '1986', '2009', '1991', '1989', '2033', '2007', '2058', '2053', '2052', '2056', '1984', '2008', '2006', '2050', '2016', '2026', '2068', '2000', '2028', '1996', '2040', '2041', '1988', '2003'}\n",
      "Tabu intersection set 0: set()\n",
      "----------------------------------------------------------------------------------------------------\n"
     ]
    }
   ],
   "source": [
    "print(\"Not connected big graph analysis\\n\\n\")\n",
    "\n",
    "print(\"Carraghan-Pardalos experiment\")\n",
    "# cp_solver: CarraghanPardalosCF = CarraghanPardalosCF(G_nc_big)\n",
    "# nc_big_max_clique_cp: set = cp_solver.find_maximum_clique()\n",
    "nc_big_max_clique_cp = optimized_carraghan_pardalos(G_nc_big)\n",
    "nc_big_intersection_set_cp = nc_big_largest.intersection(nc_big_max_clique_cp)\n",
    "\n",
    "print(f\"Maximum clique {len(nc_big_max_clique_cp)}: {nc_big_max_clique_cp}\")\n",
    "print(f\"CP intersection set {len(nc_big_intersection_set_cp)}: {nc_big_intersection_set_cp}\")\n",
    "print(\"-\"*100)\n",
    "\n",
    "print(\"Bron-Kerbosh experiment\")\n",
    "bk_solver = BronKerbosch(G_nc_big)\n",
    "nc_big_max_clique_bk: set = bk_solver.find_max_clique()\n",
    "nc_big_intersection_set_bk = nc_big_largest.intersection(nc_big_max_clique_bk)\n",
    "\n",
    "print(f\"Maximum clique {len(nc_big_max_clique_bk)} {type(nc_big_max_clique_bk)}: {nc_big_max_clique_bk}\")\n",
    "print(f\"BK intersection set {len(nc_big_intersection_set_bk)}: {nc_big_intersection_set_bk}\")\n",
    "print(\"-\"*100)\n",
    "\n",
    "\n",
    "print(\"Tabu-Search experiment\")\n",
    "tabu_solver: TabuCliqueFinder = TabuCliqueFinder(G_nc_big, tabu_tenure=10, max_iterations=400)\n",
    "nc_big_max_clique_tabu: set = tabu_solver.find_maximum_clique()\n",
    "nc_big_intersection_set_tabu = nc_big_largest.intersection(nc_big_max_clique_tabu)\n",
    "\n",
    "print(f\"Maximum clique {len(nc_big_max_clique_tabu)}: {nc_big_max_clique_tabu}\")\n",
    "print(f\"Tabu intersection set {len(nc_big_intersection_set_tabu)}: {nc_big_intersection_set_tabu}\")\n",
    "print(\"-\"*100)"
   ]
  },
  {
   "cell_type": "markdown",
   "metadata": {},
   "source": []
  },
  {
   "cell_type": "code",
   "execution_count": null,
   "metadata": {},
   "outputs": [],
   "source": []
  },
  {
   "cell_type": "code",
   "execution_count": 7,
   "metadata": {},
   "outputs": [
    {
     "name": "stdout",
     "output_type": "stream",
     "text": [
      "Sparsly connected big graph\n",
      "\n",
      "\n",
      "Carraghan-Pardalos experiment\n",
      "optimized_carraghan_pardalos took 10.2446328131 seconds to execute\n",
      "Maximum clique 97: {'109', '88', '134', '131', '147', '118', '85', '114', '141', '173', '106', '128', '99', '89', '171', '170', '130', '123', '142', '98', '92', '167', '94', '148', '78', '160', '120', '86', '168', '125', '138', '135', '79', '110', '91', '139', '158', '164', '132', '115', '155', '108', '126', '149', '129', '97', '159', '90', '84', '156', '165', '157', '117', '122', '133', '166', '119', '96', '169', '83', '80', '146', '105', '111', '101', '121', '77', '151', '143', '137', '163', '113', '107', '161', '100', '112', '152', '87', '116', '103', '153', '140', '150', '93', '127', '102', '81', '104', '136', '162', '95', '172', '144', '145', '154', '82', '124'}\n",
      "CP intersection set 97: {'88', '134', '147', '85', '141', '173', '106', '128', '99', '171', '170', '130', '123', '94', '98', '78', '125', '135', '110', '91', '139', '158', '164', '132', '115', '155', '149', '97', '84', '157', '122', '166', '119', '83', '146', '77', '107', '161', '152', '153', '150', '93', '102', '81', '136', '162', '95', '144', '145', '82', '109', '131', '118', '114', '89', '92', '142', '167', '148', '160', '120', '86', '168', '138', '79', '108', '126', '129', '159', '90', '156', '165', '117', '133', '96', '169', '80', '105', '111', '101', '121', '151', '143', '137', '163', '113', '100', '112', '87', '116', '103', '140', '127', '104', '172', '154', '124'}\n",
      "----------------------------------------------------------------------------------------------------\n",
      "Bron-Kerbosh experiment\n",
      "find_max_clique took 28.8406344510 seconds to execute\n",
      "Maximum clique 97 <class 'set'>: {'88', '109', '134', '131', '147', '85', '118', '114', '141', '173', '106', '128', '99', '89', '171', '170', '130', '92', '94', '98', '123', '142', '167', '148', '160', '78', '120', '86', '125', '168', '138', '135', '79', '110', '91', '139', '158', '164', '132', '115', '155', '126', '108', '149', '129', '97', '159', '84', '90', '156', '165', '157', '117', '122', '133', '119', '166', '96', '169', '83', '80', '146', '105', '111', '101', '121', '77', '151', '143', '137', '163', '113', '107', '161', '100', '112', '152', '87', '116', '103', '153', '140', '150', '93', '127', '102', '81', '104', '136', '162', '95', '172', '144', '145', '154', '82', '124'}\n",
      "BK intersection set 97: {'88', '134', '147', '85', '141', '173', '106', '128', '99', '171', '170', '130', '94', '123', '98', '78', '125', '135', '110', '91', '139', '158', '164', '132', '115', '155', '149', '97', '84', '157', '122', '119', '166', '83', '146', '77', '107', '161', '152', '153', '150', '93', '102', '81', '136', '162', '95', '144', '145', '82', '109', '131', '118', '114', '89', '92', '142', '167', '148', '160', '120', '86', '168', '138', '79', '126', '108', '129', '159', '90', '156', '165', '117', '133', '96', '169', '80', '105', '111', '101', '121', '151', '143', '137', '163', '113', '100', '112', '87', '116', '103', '140', '127', '104', '172', '154', '124'}\n",
      "----------------------------------------------------------------------------------------------------\n",
      "Tabu-Search experiment\n",
      "find_maximum_clique took 10.2585106639 seconds to execute\n",
      "Maximum clique 57: {'1708', '1683', '1715', '1705', '1722', '1716', '1681', '1676', '1702', '1711', '1687', '1713', '1694', '1707', '1691', '1679', '1697', '1720', '1673', '1700', '1686', '1693', '1710', '1703', '1695', '1723', '1698', '1701', '1680', '1684', '1717', '1725', '1675', '1712', '1677', '1729', '1685', '1714', '1692', '1682', '1727', '1688', '1724', '1718', '1728', '1719', '1706', '1674', '1678', '1689', '1721', '1699', '1690', '1704', '1726', '1696', '1709'}\n",
      "Tabu intersection set 0: set()\n",
      "----------------------------------------------------------------------------------------------------\n"
     ]
    }
   ],
   "source": [
    "\n",
    "print(\"Sparsly connected big graph\\n\\n\")\n",
    "\n",
    "print(\"Carraghan-Pardalos experiment\")\n",
    "# cp_solver: CarraghanPardalosCF = CarraghanPardalosCF(G_sparse_big)\n",
    "# sparse_big_max_clique_cp: set = cp_solver.find_maximum_clique()\n",
    "sparse_big_max_clique_cp = optimized_carraghan_pardalos(G_sparse_big)\n",
    "sparse_big_intersection_set_cp = sparse_big_largest.intersection(sparse_big_max_clique_cp)\n",
    "\n",
    "print(f\"Maximum clique {len(sparse_big_max_clique_cp)}: {sparse_big_max_clique_cp}\")\n",
    "print(f\"CP intersection set {len(sparse_big_intersection_set_cp)}: {sparse_big_intersection_set_cp}\")\n",
    "print(\"-\"*100)\n",
    "\n",
    "print(\"Bron-Kerbosh experiment\")\n",
    "bk_solver = BronKerbosch(G_sparse_big)\n",
    "sparse_big_max_clique_bk: set = bk_solver.find_max_clique()\n",
    "sparse_big_intersection_set_bk = sparse_big_largest.intersection(sparse_big_max_clique_bk)\n",
    "\n",
    "print(f\"Maximum clique {len(sparse_big_max_clique_bk)} {type(sparse_big_max_clique_bk)}: {sparse_big_max_clique_bk}\")\n",
    "print(f\"BK intersection set {len(sparse_big_intersection_set_bk)}: {sparse_big_intersection_set_bk}\")\n",
    "print(\"-\"*100)\n",
    "\n",
    "\n",
    "print(\"Tabu-Search experiment\")\n",
    "tabu_solver: TabuCliqueFinder = TabuCliqueFinder(G_sparse_big, tabu_tenure=200, max_iterations=300)\n",
    "sparse_big_max_clique_tabu: set = tabu_solver.find_maximum_clique()\n",
    "sparse_big_intersection_set_tabu = sparse_big_largest.intersection(sparse_big_max_clique_tabu)\n",
    "\n",
    "print(f\"Maximum clique {len(sparse_big_max_clique_tabu)}: {sparse_big_max_clique_tabu}\")\n",
    "print(f\"Tabu intersection set {len(sparse_big_intersection_set_tabu)}: {sparse_big_intersection_set_tabu}\")\n",
    "print(\"-\"*100)"
   ]
  },
  {
   "cell_type": "code",
   "execution_count": 4,
   "metadata": {},
   "outputs": [
    {
     "name": "stdout",
     "output_type": "stream",
     "text": [
      "Densly connected big graph\n",
      "\n",
      "\n",
      "Carraghan-Pardalos experiment\n"
     ]
    },
    {
     "ename": "KeyboardInterrupt",
     "evalue": "",
     "output_type": "error",
     "traceback": [
      "\u001b[0;31m---------------------------------------------------------------------------\u001b[0m",
      "\u001b[0;31mKeyboardInterrupt\u001b[0m                         Traceback (most recent call last)",
      "Cell \u001b[0;32mIn[4], line 6\u001b[0m\n\u001b[1;32m      3\u001b[0m \u001b[38;5;28mprint\u001b[39m(\u001b[38;5;124m\"\u001b[39m\u001b[38;5;124mCarraghan-Pardalos experiment\u001b[39m\u001b[38;5;124m\"\u001b[39m)\n\u001b[1;32m      4\u001b[0m \u001b[38;5;66;03m# cp_solver: CarraghanPardalosCF = CarraghanPardalosCF(G_dense_big)\u001b[39;00m\n\u001b[1;32m      5\u001b[0m \u001b[38;5;66;03m# dense_big_max_clique_cp: set = cp_solver.find_maximum_clique()\u001b[39;00m\n\u001b[0;32m----> 6\u001b[0m dense_big_max_clique_cp \u001b[38;5;241m=\u001b[39m \u001b[43moptimized_carraghan_pardalos\u001b[49m\u001b[43m(\u001b[49m\u001b[43mG_dense_big\u001b[49m\u001b[43m)\u001b[49m\n\u001b[1;32m      7\u001b[0m dense_big_intersection_set_cp \u001b[38;5;241m=\u001b[39m dense_big_largest\u001b[38;5;241m.\u001b[39mintersection(dense_big_max_clique_cp)\n\u001b[1;32m      9\u001b[0m \u001b[38;5;28mprint\u001b[39m(\u001b[38;5;124mf\u001b[39m\u001b[38;5;124m\"\u001b[39m\u001b[38;5;124mMaximum clique \u001b[39m\u001b[38;5;132;01m{\u001b[39;00m\u001b[38;5;28mlen\u001b[39m(dense_big_max_clique_cp)\u001b[38;5;132;01m}\u001b[39;00m\u001b[38;5;124m: \u001b[39m\u001b[38;5;132;01m{\u001b[39;00mdense_big_max_clique_cp\u001b[38;5;132;01m}\u001b[39;00m\u001b[38;5;124m\"\u001b[39m)\n",
      "File \u001b[0;32m~/clique_finder/libs/clique_finding_algos/utils.py:8\u001b[0m, in \u001b[0;36mtimer.<locals>.wrapper\u001b[0;34m(*args, **kwargs)\u001b[0m\n\u001b[1;32m      5\u001b[0m \u001b[38;5;129m@wraps\u001b[39m(func)\n\u001b[1;32m      6\u001b[0m \u001b[38;5;28;01mdef\u001b[39;00m \u001b[38;5;21mwrapper\u001b[39m(\u001b[38;5;241m*\u001b[39margs, \u001b[38;5;241m*\u001b[39m\u001b[38;5;241m*\u001b[39mkwargs):\n\u001b[1;32m      7\u001b[0m     start \u001b[38;5;241m=\u001b[39m time\u001b[38;5;241m.\u001b[39mperf_counter()\n\u001b[0;32m----> 8\u001b[0m     result \u001b[38;5;241m=\u001b[39m \u001b[43mfunc\u001b[49m\u001b[43m(\u001b[49m\u001b[38;5;241;43m*\u001b[39;49m\u001b[43margs\u001b[49m\u001b[43m,\u001b[49m\u001b[43m \u001b[49m\u001b[38;5;241;43m*\u001b[39;49m\u001b[38;5;241;43m*\u001b[39;49m\u001b[43mkwargs\u001b[49m\u001b[43m)\u001b[49m\n\u001b[1;32m      9\u001b[0m     end \u001b[38;5;241m=\u001b[39m time\u001b[38;5;241m.\u001b[39mperf_counter()\n\u001b[1;32m     10\u001b[0m     \u001b[38;5;28mprint\u001b[39m(\u001b[38;5;124mf\u001b[39m\u001b[38;5;124m\"\u001b[39m\u001b[38;5;132;01m{\u001b[39;00mfunc\u001b[38;5;241m.\u001b[39m\u001b[38;5;18m__name__\u001b[39m\u001b[38;5;132;01m}\u001b[39;00m\u001b[38;5;124m took \u001b[39m\u001b[38;5;132;01m{\u001b[39;00mend\u001b[38;5;250m \u001b[39m\u001b[38;5;241m-\u001b[39m\u001b[38;5;250m \u001b[39mstart\u001b[38;5;132;01m:\u001b[39;00m\u001b[38;5;124m.10f\u001b[39m\u001b[38;5;132;01m}\u001b[39;00m\u001b[38;5;124m seconds to execute\u001b[39m\u001b[38;5;124m\"\u001b[39m)\n",
      "File \u001b[0;32m~/clique_finder/libs/clique_finding_algos/carraghan_pardalos.py:88\u001b[0m, in \u001b[0;36moptimized_carraghan_pardalos\u001b[0;34m(graph)\u001b[0m\n\u001b[1;32m     86\u001b[0m \u001b[38;5;66;03m# Start with vertices ordered by degree\u001b[39;00m\n\u001b[1;32m     87\u001b[0m initial_candidates \u001b[38;5;241m=\u001b[39m \u001b[38;5;28mset\u001b[39m(\u001b[38;5;28msorted\u001b[39m(graph\u001b[38;5;241m.\u001b[39mnodes(), key\u001b[38;5;241m=\u001b[39m\u001b[38;5;28;01mlambda\u001b[39;00m x: \u001b[38;5;241m-\u001b[39mdegree_map[x]))\n\u001b[0;32m---> 88\u001b[0m \u001b[38;5;28;01mreturn\u001b[39;00m \u001b[43mbacktrack\u001b[49m\u001b[43m(\u001b[49m\u001b[38;5;28;43mset\u001b[39;49m\u001b[43m(\u001b[49m\u001b[43m)\u001b[49m\u001b[43m,\u001b[49m\u001b[43m \u001b[49m\u001b[43minitial_candidates\u001b[49m\u001b[43m,\u001b[49m\u001b[43m \u001b[49m\u001b[38;5;241;43m0\u001b[39;49m\u001b[43m)\u001b[49m\n",
      "File \u001b[0;32m~/clique_finder/libs/clique_finding_algos/carraghan_pardalos.py:77\u001b[0m, in \u001b[0;36moptimized_carraghan_pardalos.<locals>.backtrack\u001b[0;34m(clique, candidates, best_size)\u001b[0m\n\u001b[1;32m     74\u001b[0m \u001b[38;5;66;03m# Optimize neighbor intersection\u001b[39;00m\n\u001b[1;32m     75\u001b[0m new_candidates \u001b[38;5;241m=\u001b[39m candidates \u001b[38;5;241m&\u001b[39m \u001b[38;5;28mset\u001b[39m(graph\u001b[38;5;241m.\u001b[39mneighbors(v))\n\u001b[0;32m---> 77\u001b[0m result_clique \u001b[38;5;241m=\u001b[39m \u001b[43mbacktrack\u001b[49m\u001b[43m(\u001b[49m\u001b[43mnew_clique\u001b[49m\u001b[43m,\u001b[49m\u001b[43m \u001b[49m\u001b[43mnew_candidates\u001b[49m\u001b[43m,\u001b[49m\u001b[43m \u001b[49m\u001b[38;5;28;43mlen\u001b[39;49m\u001b[43m(\u001b[49m\u001b[43mmax_clique\u001b[49m\u001b[43m)\u001b[49m\u001b[43m)\u001b[49m\n\u001b[1;32m     78\u001b[0m \u001b[38;5;28;01mif\u001b[39;00m \u001b[38;5;28mlen\u001b[39m(result_clique) \u001b[38;5;241m>\u001b[39m \u001b[38;5;28mlen\u001b[39m(max_clique):\n\u001b[1;32m     79\u001b[0m     max_clique \u001b[38;5;241m=\u001b[39m result_clique\n",
      "File \u001b[0;32m~/clique_finder/libs/clique_finding_algos/carraghan_pardalos.py:77\u001b[0m, in \u001b[0;36moptimized_carraghan_pardalos.<locals>.backtrack\u001b[0;34m(clique, candidates, best_size)\u001b[0m\n\u001b[1;32m     74\u001b[0m \u001b[38;5;66;03m# Optimize neighbor intersection\u001b[39;00m\n\u001b[1;32m     75\u001b[0m new_candidates \u001b[38;5;241m=\u001b[39m candidates \u001b[38;5;241m&\u001b[39m \u001b[38;5;28mset\u001b[39m(graph\u001b[38;5;241m.\u001b[39mneighbors(v))\n\u001b[0;32m---> 77\u001b[0m result_clique \u001b[38;5;241m=\u001b[39m \u001b[43mbacktrack\u001b[49m\u001b[43m(\u001b[49m\u001b[43mnew_clique\u001b[49m\u001b[43m,\u001b[49m\u001b[43m \u001b[49m\u001b[43mnew_candidates\u001b[49m\u001b[43m,\u001b[49m\u001b[43m \u001b[49m\u001b[38;5;28;43mlen\u001b[39;49m\u001b[43m(\u001b[49m\u001b[43mmax_clique\u001b[49m\u001b[43m)\u001b[49m\u001b[43m)\u001b[49m\n\u001b[1;32m     78\u001b[0m \u001b[38;5;28;01mif\u001b[39;00m \u001b[38;5;28mlen\u001b[39m(result_clique) \u001b[38;5;241m>\u001b[39m \u001b[38;5;28mlen\u001b[39m(max_clique):\n\u001b[1;32m     79\u001b[0m     max_clique \u001b[38;5;241m=\u001b[39m result_clique\n",
      "    \u001b[0;31m[... skipping similar frames: optimized_carraghan_pardalos.<locals>.backtrack at line 77 (15 times)]\u001b[0m\n",
      "File \u001b[0;32m~/clique_finder/libs/clique_finding_algos/carraghan_pardalos.py:77\u001b[0m, in \u001b[0;36moptimized_carraghan_pardalos.<locals>.backtrack\u001b[0;34m(clique, candidates, best_size)\u001b[0m\n\u001b[1;32m     74\u001b[0m \u001b[38;5;66;03m# Optimize neighbor intersection\u001b[39;00m\n\u001b[1;32m     75\u001b[0m new_candidates \u001b[38;5;241m=\u001b[39m candidates \u001b[38;5;241m&\u001b[39m \u001b[38;5;28mset\u001b[39m(graph\u001b[38;5;241m.\u001b[39mneighbors(v))\n\u001b[0;32m---> 77\u001b[0m result_clique \u001b[38;5;241m=\u001b[39m \u001b[43mbacktrack\u001b[49m\u001b[43m(\u001b[49m\u001b[43mnew_clique\u001b[49m\u001b[43m,\u001b[49m\u001b[43m \u001b[49m\u001b[43mnew_candidates\u001b[49m\u001b[43m,\u001b[49m\u001b[43m \u001b[49m\u001b[38;5;28;43mlen\u001b[39;49m\u001b[43m(\u001b[49m\u001b[43mmax_clique\u001b[49m\u001b[43m)\u001b[49m\u001b[43m)\u001b[49m\n\u001b[1;32m     78\u001b[0m \u001b[38;5;28;01mif\u001b[39;00m \u001b[38;5;28mlen\u001b[39m(result_clique) \u001b[38;5;241m>\u001b[39m \u001b[38;5;28mlen\u001b[39m(max_clique):\n\u001b[1;32m     79\u001b[0m     max_clique \u001b[38;5;241m=\u001b[39m result_clique\n",
      "File \u001b[0;32m~/clique_finder/libs/clique_finding_algos/carraghan_pardalos.py:75\u001b[0m, in \u001b[0;36moptimized_carraghan_pardalos.<locals>.backtrack\u001b[0;34m(clique, candidates, best_size)\u001b[0m\n\u001b[1;32m     73\u001b[0m new_clique \u001b[38;5;241m=\u001b[39m clique \u001b[38;5;241m|\u001b[39m {v}\n\u001b[1;32m     74\u001b[0m \u001b[38;5;66;03m# Optimize neighbor intersection\u001b[39;00m\n\u001b[0;32m---> 75\u001b[0m new_candidates \u001b[38;5;241m=\u001b[39m candidates \u001b[38;5;241m&\u001b[39m \u001b[38;5;28;43mset\u001b[39;49m\u001b[43m(\u001b[49m\u001b[43mgraph\u001b[49m\u001b[38;5;241;43m.\u001b[39;49m\u001b[43mneighbors\u001b[49m\u001b[43m(\u001b[49m\u001b[43mv\u001b[49m\u001b[43m)\u001b[49m\u001b[43m)\u001b[49m\n\u001b[1;32m     77\u001b[0m result_clique \u001b[38;5;241m=\u001b[39m backtrack(new_clique, new_candidates, \u001b[38;5;28mlen\u001b[39m(max_clique))\n\u001b[1;32m     78\u001b[0m \u001b[38;5;28;01mif\u001b[39;00m \u001b[38;5;28mlen\u001b[39m(result_clique) \u001b[38;5;241m>\u001b[39m \u001b[38;5;28mlen\u001b[39m(max_clique):\n",
      "\u001b[0;31mKeyboardInterrupt\u001b[0m: "
     ]
    }
   ],
   "source": [
    "print(\"Densly connected big graph\\n\\n\")\n",
    "\n",
    "print(\"Carraghan-Pardalos experiment\")\n",
    "# cp_solver: CarraghanPardalosCF = CarraghanPardalosCF(G_dense_big)\n",
    "# dense_big_max_clique_cp: set = cp_solver.find_maximum_clique()\n",
    "dense_big_max_clique_cp = optimized_carraghan_pardalos(G_dense_big)\n",
    "dense_big_intersection_set_cp = dense_big_largest.intersection(dense_big_max_clique_cp)\n",
    "\n",
    "print(f\"Maximum clique {len(dense_big_max_clique_cp)}: {dense_big_max_clique_cp}\")\n",
    "print(f\"CP intersection set {len(dense_big_intersection_set_cp)}: {dense_big_intersection_set_cp}\")\n",
    "print(\"-\"*100)\n",
    "\n",
    "\n"
   ]
  },
  {
   "cell_type": "code",
   "execution_count": null,
   "metadata": {},
   "outputs": [],
   "source": [
    "print(\"Bron-Kerbosh experiment\")\n",
    "bk_solver = BronKerbosch(G_dense_big)\n",
    "dense_big_max_clique_bk: set = bk_solver.find_max_clique()\n",
    "# dense_big_intersection_set_bk = dense_big_largest.intersection(dense_big_max_clique_bk)\n",
    "\n",
    "print(f\"Maximum clique {len(dense_big_max_clique_bk)} {type(dense_big_max_clique_bk)}: {dense_big_max_clique_bk}\")\n",
    "# print(f\"BK intersection set {len(dense_big_intersection_set_bk)}: {dense_big_intersection_set_bk}\")\n",
    "print(\"-\"*100)"
   ]
  },
  {
   "cell_type": "code",
   "execution_count": null,
   "metadata": {},
   "outputs": [],
   "source": [
    "\n",
    "print(\"Tabu-Search experiment\")\n",
    "tabu_solver: TabuCliqueFinder = TabuCliqueFinder(G_dense_big, tabu_tenure=20, max_iterations=300)\n",
    "dense_big_max_clique_tabu: set = tabu_solver.find_maximum_clique()\n",
    "# dense_big_intersection_set_tabu = dense_big_largest.intersection(dense_big_max_clique_tabu)\n",
    "\n",
    "print(f\"Maximum clique {len(dense_big_max_clique_tabu)}: {dense_big_max_clique_tabu}\")\n",
    "# print(f\"Tabu intersection set {len(dense_big_intersection_set_tabu)}: {dense_big_intersection_set_tabu}\")\n",
    "print(\"-\"*100)"
   ]
  }
 ],
 "metadata": {
  "kernelspec": {
   "display_name": "venv",
   "language": "python",
   "name": "python3"
  },
  "language_info": {
   "codemirror_mode": {
    "name": "ipython",
    "version": 3
   },
   "file_extension": ".py",
   "mimetype": "text/x-python",
   "name": "python",
   "nbconvert_exporter": "python",
   "pygments_lexer": "ipython3",
   "version": "3.10.12"
  }
 },
 "nbformat": 4,
 "nbformat_minor": 2
}
